{
  "cells": [
    {
      "cell_type": "code",
      "execution_count": null,
      "metadata": {
        "id": "1m3xEwKUqUsN"
      },
      "outputs": [],
      "source": [
        "def player_input():\n",
        "    a=True\n",
        "    while a:\n",
        "        p=input('Player 1: Enter X or O:')\n",
        "        if p=='X' or p=='O':\n",
        "            a=False\n",
        "    return p"
      ]
    },
    {
      "cell_type": "code",
      "execution_count": null,
      "metadata": {
        "id": "hPkEt0E3qUsO"
      },
      "outputs": [],
      "source": [
        "from IPython.display import clear_output\n",
        "def display_board():\n",
        "    print(mylist[0],'|',mylist[1],'|',mylist[2])\n",
        "    print('-','+','-','+','-')\n",
        "    print(mylist[3],'|',mylist[4],'|',mylist[5])\n",
        "    print('-','+','-','+','-')\n",
        "    print(mylist[6],'|',mylist[7],'|',mylist[8])"
      ]
    },
    {
      "cell_type": "code",
      "execution_count": null,
      "metadata": {
        "id": "BzrLV5t1qUsP"
      },
      "outputs": [],
      "source": [
        "def check_win():\n",
        "    if mylist[1]==mylist[2] and mylist[1]==mylist[0] and mylist[0]!=' ':\n",
        "        return 2\n",
        "    elif mylist[3]==mylist[4] and mylist[3]==mylist[5] and mylist[3]!=' ':\n",
        "        return 3\n",
        "    elif mylist[6]==mylist[7] and mylist[6]==mylist[8] and mylist[7]!=' ':\n",
        "        return 6\n",
        "    elif mylist[0]==mylist[4] and mylist[4]==mylist[8] and mylist[0]!=' ':\n",
        "        return 4\n",
        "    elif mylist[2]==mylist[4] and mylist[4]==mylist[6] and mylist[6]!=' ':\n",
        "        return 4\n",
        "    elif mylist[0]==mylist[3] and mylist[6]==mylist[0] and mylist[0]!=' ':\n",
        "        return 3\n",
        "    elif mylist[1]==mylist[4] and mylist[4]==mylist[7] and mylist[4]!=' ':\n",
        "        return 4\n",
        "    elif mylist[2]==mylist[5] and mylist[5]==mylist[8] and mylist[8]!=' ':\n",
        "        return 2"
      ]
    },
    {
      "cell_type": "code",
      "execution_count": null,
      "metadata": {
        "id": "i_cNiXPiqUsP"
      },
      "outputs": [],
      "source": [
        "def win():\n",
        "    if mylist[winner]==p1:\n",
        "        print(\"Player 1 wins\")\n",
        "    elif mylist[winner]==p2:\n",
        "        print(\"Player 2 wins\")\n",
        "    else:\n",
        "        print(\"Continue\")"
      ]
    },
    {
      "cell_type": "code",
      "execution_count": null,
      "metadata": {
        "colab": {
          "base_uri": "https://localhost:8080/"
        },
        "id": "24niEHy2qUsQ",
        "outputId": "d2cb9b32-c608-429d-c37d-6ddae82dc8f7"
      },
      "outputs": [
        {
          "output_type": "stream",
          "name": "stdout",
          "text": [
            "X | O |  \n",
            "- + - + -\n",
            "O | X | X\n",
            "- + - + -\n",
            "O |   | X\n",
            "Player 1 wins\n"
          ]
        }
      ],
      "source": [
        "print(\"TIC-TAC-TOE\")\n",
        "mylist=[' ',' ',' ',' ',' ',' ',' ',' ',' ']\n",
        "count=0\n",
        "flag=0\n",
        "winner=False\n",
        "z=player_input()\n",
        "if z=='X':\n",
        "    p1='X'\n",
        "    p2='O'\n",
        "else:\n",
        "    p1='O'\n",
        "    p2='X'\n",
        "while not winner:\n",
        "    if(count==9):\n",
        "        flag=1\n",
        "        break\n",
        "    if count%2==0:\n",
        "        r1=int(input(\"Player 1:Enter the position that you want to insert:\"))\n",
        "        mylist[r1-1]= p1\n",
        "    else:\n",
        "        r2=int(input(\"Player 2:Enter the position that you want to insert:\"))\n",
        "        mylist[r2-1]= p2\n",
        "    winner=check_win()\n",
        "    count+=1\n",
        "    if count==9 and winner==False:\n",
        "        flag=1\n",
        "        break\n",
        "    clear_output()\n",
        "    display_board();\n",
        "if flag==1:\n",
        "    print(\"The game is a draw\")\n",
        "else:\n",
        "    win()"
      ]
    },
    {
      "cell_type": "markdown",
      "metadata": {
        "id": "Aa7b1oU1qUsR"
      },
      "source": [
        ""
      ]
    }
  ],
  "metadata": {
    "kernelspec": {
      "display_name": "Python 3",
      "language": "python",
      "name": "python3"
    },
    "language_info": {
      "codemirror_mode": {
        "name": "ipython",
        "version": 3
      },
      "file_extension": ".py",
      "mimetype": "text/x-python",
      "name": "python",
      "nbconvert_exporter": "python",
      "pygments_lexer": "ipython3",
      "version": "3.8.5"
    },
    "colab": {
      "name": "MILESTONE1.ipynb",
      "provenance": []
    }
  },
  "nbformat": 4,
  "nbformat_minor": 0
}